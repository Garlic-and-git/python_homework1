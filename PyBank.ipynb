{
 "cells": [
  {
   "cell_type": "code",
   "execution_count": null,
   "id": "b0241098-73af-4750-94a9-ef3b0fe79e10",
   "metadata": {},
   "outputs": [],
   "source": [
    "f = open(\"budget_data.csv\", \"rt\")\n",
    "print"
   ]
  },
  {
   "cell_type": "code",
   "execution_count": null,
   "id": "14fa8373-faa5-4197-a607-3788111473d3",
   "metadata": {},
   "outputs": [],
   "source": []
  }
 ],
 "metadata": {
  "kernelspec": {
   "display_name": "",
   "name": ""
  },
  "language_info": {
   "name": ""
  }
 },
 "nbformat": 4,
 "nbformat_minor": 5
}
